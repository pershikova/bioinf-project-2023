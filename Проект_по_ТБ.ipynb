{
  "nbformat": 4,
  "nbformat_minor": 0,
  "metadata": {
    "colab": {
      "provenance": [],
      "include_colab_link": true
    },
    "kernelspec": {
      "name": "python3",
      "display_name": "Python 3"
    },
    "language_info": {
      "name": "python"
    }
  },
  "cells": [
    {
      "cell_type": "markdown",
      "metadata": {
        "id": "view-in-github",
        "colab_type": "text"
      },
      "source": [
        "<a href=\"https://colab.research.google.com/github/pershikova/bioinf-project-2023/blob/main/%D0%9F%D1%80%D0%BE%D0%B5%D0%BA%D1%82_%D0%BF%D0%BE_%D0%A2%D0%91.ipynb\" target=\"_parent\"><img src=\"https://colab.research.google.com/assets/colab-badge.svg\" alt=\"Open In Colab\"/></a>"
      ]
    },
    {
      "cell_type": "markdown",
      "source": [
        "**Реализация Алгоритма Кнута-Морриса-Пратта**"
      ],
      "metadata": {
        "id": "j9E14Gd8PMgj"
      }
    },
    {
      "cell_type": "markdown",
      "source": [
        "**Постановка задачи:**\n",
        "Реализовать алгоритмом Кнута-Томаса-Пратта выравнивание последовательности P на текст T. Данные задаются в формате fasta. Вывод - локус в Т вхождения P.\n",
        "\n",
        "**Input:** P.fa T.fa\n",
        "\n",
        "**Output:** Alignment locus\n",
        "\n",
        "**Sample_input:**\n",
        "\n",
        "*>*P\n",
        "\n",
        "ATC\n",
        "\n",
        "*>*T\n",
        "\n",
        "AATCCG\n",
        "\n",
        "**Sample_output:**\n",
        "\n",
        "2\n"
      ],
      "metadata": {
        "id": "2W0ITGH4Ph_y"
      }
    },
    {
      "cell_type": "markdown",
      "source": [
        "**Реализация алгоритма**"
      ],
      "metadata": {
        "id": "i-XslWGlF7lX"
      }
    },
    {
      "cell_type": "code",
      "source": [
        "import numpy as np"
      ],
      "metadata": {
        "id": "0QVPhzZqfDCG"
      },
      "execution_count": null,
      "outputs": []
    },
    {
      "cell_type": "code",
      "source": [
        "# загрузка последовательностей текста и образца\n",
        "\n",
        "!wget https...\n",
        "!wget https..."
      ],
      "metadata": {
        "id": "3ATD6gv6oPku"
      },
      "execution_count": null,
      "outputs": []
    },
    {
      "cell_type": "code",
      "source": [
        "def read_fasta(file_name):\n",
        "    # Инициализация пустой строки для хранения строки заголовка\n",
        "    defline = ''\n",
        "    # Открытие файла для чтения\n",
        "    F = open(file_name)\n",
        "    # Инициализация пустого словаря, где ключи это названия (последовательностей), а значения сами последовательности - если в *.fa файле она не одна\n",
        "    sequence = {}\n",
        "\n",
        "    #считаем количество последовательностей\n",
        "    i=0\n",
        "\n",
        "    # Итерация по строкам в файле\n",
        "    for line in F:\n",
        "        # Удаление лишних пробелов\n",
        "        line = line.strip()\n",
        "\n",
        "        # Проверка, является ли строка строкой заголовка (начинается с '>')\n",
        "        if line[0] == '>':\n",
        "            defline = line\n",
        "            i+=1\n",
        "            # Удаление символа '>' из строки заголовка\n",
        "            defline = defline.replace('>', '')\n",
        "            if defline =='':\n",
        "                defline = str(i)\n",
        "        #Проверка поступила на вход строка заголовка/последовательности или пустая строка\n",
        "        if line != '' and line[0] != '>':\n",
        "          #выравнивание регистра для последоватльности\n",
        "            line = line.upper()\n",
        "            #Проверка есть ли последний сохраненный заголовок уже в ключах\n",
        "            if defline in sequence.keys():\n",
        "                #Есть - добавляем последовательность к сущ ключу\n",
        "                sequence[defline] += line\n",
        "            else:\n",
        "                #Нет - добавляем последовательность по последнему\n",
        "                sequence[defline] = line\n",
        "\n",
        "    # Закрытие файла\n",
        "    F.close()\n",
        "    # Возвращение последовательности\n",
        "    return sequence"
      ],
      "metadata": {
        "id": "6Ew6Bc5FfoQX"
      },
      "execution_count": null,
      "outputs": []
    },
    {
      "cell_type": "code",
      "source": [
        "t=read_fasta('t_example.fna')\n",
        "p=read_fasta('p_example.fna')"
      ],
      "metadata": {
        "id": "Twbid8KtgBGt"
      },
      "execution_count": null,
      "outputs": []
    },
    {
      "cell_type": "code",
      "execution_count": null,
      "metadata": {
        "id": "YL_to5uVPJcZ"
      },
      "outputs": [],
      "source": [
        "def KMPSearch(pat, txt):\n",
        "    # Получаем длины шаблона и текста\n",
        "    M = len(pat)\n",
        "    N = len(txt)\n",
        "    # Проверка на пустой образец\n",
        "    if M == 0:\n",
        "        print(\"Ошибка: Пустой образец\")\n",
        "        return []\n",
        "    # Проверка на пустой текст\n",
        "    if N == 0:\n",
        "        print(\"Ошибка: Пустой текст\")\n",
        "        return []\n",
        "    # Шаг 1: Создаем массив lps[], который будет содержать значения самого длинного префикса-суффикса для шаблона\n",
        "    lps = [0] * M\n",
        "    # Шаг 2: Подготовка шаблона (вычисление массива lps)\n",
        "    computeLPSArray(pat, M, lps)\n",
        "    # Шаг 3: Инициализация указателей для текста (i) и шаблона (j)\n",
        "    i = j = 0\n",
        "    indices = []  # Список для хранения индексов, где найден образец\n",
        "    while i < N:\n",
        "        # Шаг 4: Если символы совпадают, перемещаем оба указателя\n",
        "        if pat[j] == txt[i]:\n",
        "            i += 1\n",
        "            j += 1\n",
        "            # Шаг 5: Если найден весь шаблон, обновляем j, используя lps, и добавляем индекс в список\n",
        "            if j == M:\n",
        "                indices.append(i - j)\n",
        "                j = lps[j - 1]\n",
        "        else:\n",
        "            # Шаг 6: Если есть несовпадение после некоторого количества совпадений\n",
        "            if j != 0:\n",
        "                # Перемещаем j к предыдущей совпадающей позиции, используя lps\n",
        "                j = lps[j - 1]\n",
        "            else:\n",
        "                # Если j уже в начале шаблона, перемещаем i к следующему символу\n",
        "                i += 1\n",
        "    # Преобразование индексов в массив NumPy и возврат\n",
        "    numeration = np.array(indices) + 1\n",
        "    return numeration\n",
        "# Реализация префикс-функции\n",
        "def computeLPSArray(pat, M, lps):\n",
        "    len = 0  # длина предыдущего самого длинного префикса-суффикса\n",
        "    # Шаг 1: lps[0] всегда равно 0\n",
        "    lps[0] = 0\n",
        "    i = 1\n",
        "    # Шаг 2: Вычисление lps[i] для i = 1 до M-1\n",
        "    while i < M:\n",
        "        if pat[i] == pat[len]:\n",
        "            len += 1\n",
        "            lps[i] = len\n",
        "            i += 1\n",
        "        else:\n",
        "            # Шаг 3: Если есть несовпадение\n",
        "            if len != 0:\n",
        "                # Перемещаем len к предыдущей совпадающей позиции, используя lps\n",
        "                len = lps[len - 1]\n",
        "            else:\n",
        "                # Если len уже в начале, устанавливаем lps[i] в 0 и перемещаем i к следующему символу\n",
        "                lps[i] = 0\n",
        "                i += 1\n",
        "\n"
      ]
    },
    {
      "cell_type": "code",
      "source": [
        "# Пример использования\n",
        "# txt = input()\n",
        "# pat = input()\n",
        "\n",
        "\n",
        "txt = t\n",
        "print(txt)\n",
        "pat = p\n",
        "print(pat)\n",
        "\n",
        "for text_name in (txt.keys()):\n",
        "    for pattern_name in (pat.keys()):\n",
        "        result = KMPSearch(pat[pattern_name], txt[text_name])\n",
        "        if len(result)==0:\n",
        "            print(f\"Образец {pattern_name} не найден в тексте {text_name}\")\n",
        "        else:\n",
        "            print(f\"Образец {pattern_name} найден в тексте {text_name} по индексам: \" + ', '.join(map(str, result)))\n",
        "\n",
        "# Вывод результатов\n"
      ],
      "metadata": {
        "colab": {
          "base_uri": "https://localhost:8080/"
        },
        "id": "fvfj-VVBGRn4",
        "outputId": "b3135a4f-7f4a-47cb-821c-7c091f1c8757"
      },
      "execution_count": null,
      "outputs": [
        {
          "output_type": "stream",
          "name": "stdout",
          "text": [
            "{'t example': 'AATCCG', 't example 2': 'ATCCTCTCTATCGCATC'}\n",
            "{' p example': 'ATC', ' p example 2': 'ATCGCA'}\n",
            "Образец  p example найден в тексте t example по индексам: 2\n",
            "Образец  p example 2 не найден в тексте t example\n",
            "Образец  p example найден в тексте t example 2 по индексам: 1, 10, 15\n",
            "Образец  p example 2 найден в тексте t example 2 по индексам: 10\n"
          ]
        }
      ]
    },
    {
      "cell_type": "markdown",
      "source": [
        "**Оптимизация алгоритма**"
      ],
      "metadata": {
        "id": "jmVyw6AtF_xj"
      }
    },
    {
      "cell_type": "code",
      "source": [
        "def KMPWithFailureTable(pat, txt):\n",
        "    # Получаем длины шаблона и текста\n",
        "    M = len(pat)\n",
        "    N = len(txt)\n",
        "    # Проверка на пустой образец\n",
        "    if M == 0:\n",
        "        print(\"Ошибка: Пустой образец\")\n",
        "        return []\n",
        "    # Проверка на пустой текст\n",
        "    if N == 0:\n",
        "        print(\"Ошибка: Пустой текст\")\n",
        "        return []\n",
        "    # Шаг 1: Создаем массив lps[], который будет содержать значения самого длинного префикса-суффикса для шаблона\n",
        "    lps = [0] * M\n",
        "    # Шаг 2: Подготовка шаблона (вычисление массива lps)\n",
        "    computeLPSArray(pat, M, lps)\n",
        "    # Шаг 3: Инициализация указателей для текста (i) и шаблона (j)\n",
        "    i = j = 0\n",
        "    indices = []  # Список для хранения индексов, где найден образец\n",
        "    # Шаг 4: Построение таблицы FT\n",
        "    FT = buildFailureTable(pat)\n",
        "    while i < N:\n",
        "        # Шаг 5: Если символы совпадают, перемещаем оба указателя\n",
        "        if pat[j] == txt[i]:\n",
        "            i += 1\n",
        "            j += 1\n",
        "            # Шаг 6: Если найден весь шаблон, обновляем j, используя lps, и добавляем индекс в список\n",
        "            if j == M:\n",
        "                indices.append(i - j)\n",
        "                j = lps[j - 1]\n",
        "        else:\n",
        "            # Шаг 7: Если есть несовпадение после некоторого количества совпадений\n",
        "            if j != 0:\n",
        "                # Перемещаем j к предыдущей совпадающей позиции, используя lps\n",
        "                j = lps[j - 1]\n",
        "            else:\n",
        "                # Если j уже в начале шаблона, перемещаем i к следующему символу\n",
        "                i += 1\n",
        "    numeration = np.array(indices) + 1\n",
        "    return numeration\n",
        "\n",
        "def buildFailureTable(pat):\n",
        "    # Максимальный размер алфавита Unicode\n",
        "    K = 256\n",
        "    M = len(pat)\n",
        "    # Инициализация таблицы FT\n",
        "    FT = [[0] * M for _ in range(K)]\n",
        "    # Инициализация первой строки таблицы\n",
        "    FT[ord(pat[0])][0] = 1\n",
        "    # Инициализация переменной для отслеживания предыдущей строки\n",
        "    prev = 0\n",
        "    # Построение таблицы FT\n",
        "    for l in range(1, M):\n",
        "        for k in range(K):\n",
        "            FT[k][l] = FT[k][prev]\n",
        "        FT[ord(pat[l])][l] = l + 1\n",
        "        prev = FT[ord(pat[l])][prev]\n",
        "    return FT\n",
        "\n"
      ],
      "metadata": {
        "id": "jNP6f3DLGDDz"
      },
      "execution_count": null,
      "outputs": []
    },
    {
      "cell_type": "code",
      "source": [
        "# Пример использования\n",
        "txt = read_fasta(input(\"Введите название файла, содержащего текст: \"))\n",
        "print('Текст:', txt)\n",
        "pat = read_fasta(input(\"Введите название файла, содержащего образец: \"))\n",
        "print('Образец:', pat)\n",
        "\n",
        "for text_name in (txt.keys()):\n",
        "    for pattern_name in (pat.keys()):\n",
        "        result = KMPSearch(pat[pattern_name], txt[text_name])\n",
        "        if not result.all():\n",
        "            print(f\"Образец {pattern_name} не найден в тексте {text_name}\")\n",
        "        else:\n",
        "            print(f\"Образец {pattern_name} найден в тексте {text_name} по индексам: \" + ', '.join(map(str, result)))\n"
      ],
      "metadata": {
        "id": "56uS5tjbItQ4",
        "colab": {
          "base_uri": "https://localhost:8080/"
        },
        "outputId": "f41bdffc-bf53-48f4-a1cb-0b36a93e9c0d"
      },
      "execution_count": null,
      "outputs": [
        {
          "output_type": "stream",
          "name": "stdout",
          "text": [
            "Введите название файла, содержащего текст: t_example.fna\n",
            "Текст: {'t example': 'AATCCG', 't example 2': 'ATCCTCTCTATCGCATC'}\n",
            "Введите название файла, содержащего образец: p_example.fna\n",
            "Образец: {'1': 'ATC', '2': 'ATCGCA'}\n",
            "Образец 1 найден в тексте t example по индексам: 2\n",
            "Образец 2 найден в тексте t example по индексам: \n",
            "Образец 1 найден в тексте t example 2 по индексам: 1, 10, 15\n",
            "Образец 2 найден в тексте t example 2 по индексам: 10\n"
          ]
        }
      ]
    }
  ]
}